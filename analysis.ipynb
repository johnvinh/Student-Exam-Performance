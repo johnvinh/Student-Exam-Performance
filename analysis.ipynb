{
 "cells": [
  {
   "cell_type": "markdown",
   "metadata": {
    "collapsed": true,
    "pycharm": {
     "name": "#%% md\n"
    }
   },
   "source": [
    "# Student Exam Performance Analysis\n",
    "Let's start by importing the tools we need."
   ]
  },
  {
   "cell_type": "code",
   "execution_count": 5,
   "outputs": [],
   "source": [
    "import pandas as pd\n",
    "import matplotlib.pyplot as plt\n",
    "from collections import Counter\n",
    "\n",
    "plt.style.use('seaborn-deep')\n",
    "\n",
    "df = pd.read_csv('StudentsPerformance.csv')"
   ],
   "metadata": {
    "collapsed": false,
    "pycharm": {
     "name": "#%%\n"
    }
   }
  },
  {
   "cell_type": "markdown",
   "source": [
    "Let's take a look at the data we're using."
   ],
   "metadata": {
    "collapsed": false,
    "pycharm": {
     "name": "#%% md\n"
    }
   }
  },
  {
   "cell_type": "code",
   "execution_count": 6,
   "outputs": [
    {
     "data": {
      "text/plain": "   gender race/ethnicity parental level of education         lunch  \\\n0  female        group B           bachelor's degree      standard   \n1  female        group C                some college      standard   \n2  female        group B             master's degree      standard   \n3    male        group A          associate's degree  free/reduced   \n4    male        group C                some college      standard   \n\n  test preparation course  math score  reading score  writing score  \n0                    none          72             72             74  \n1               completed          69             90             88  \n2                    none          90             95             93  \n3                    none          47             57             44  \n4                    none          76             78             75  ",
      "text/html": "<div>\n<style scoped>\n    .dataframe tbody tr th:only-of-type {\n        vertical-align: middle;\n    }\n\n    .dataframe tbody tr th {\n        vertical-align: top;\n    }\n\n    .dataframe thead th {\n        text-align: right;\n    }\n</style>\n<table border=\"1\" class=\"dataframe\">\n  <thead>\n    <tr style=\"text-align: right;\">\n      <th></th>\n      <th>gender</th>\n      <th>race/ethnicity</th>\n      <th>parental level of education</th>\n      <th>lunch</th>\n      <th>test preparation course</th>\n      <th>math score</th>\n      <th>reading score</th>\n      <th>writing score</th>\n    </tr>\n  </thead>\n  <tbody>\n    <tr>\n      <th>0</th>\n      <td>female</td>\n      <td>group B</td>\n      <td>bachelor's degree</td>\n      <td>standard</td>\n      <td>none</td>\n      <td>72</td>\n      <td>72</td>\n      <td>74</td>\n    </tr>\n    <tr>\n      <th>1</th>\n      <td>female</td>\n      <td>group C</td>\n      <td>some college</td>\n      <td>standard</td>\n      <td>completed</td>\n      <td>69</td>\n      <td>90</td>\n      <td>88</td>\n    </tr>\n    <tr>\n      <th>2</th>\n      <td>female</td>\n      <td>group B</td>\n      <td>master's degree</td>\n      <td>standard</td>\n      <td>none</td>\n      <td>90</td>\n      <td>95</td>\n      <td>93</td>\n    </tr>\n    <tr>\n      <th>3</th>\n      <td>male</td>\n      <td>group A</td>\n      <td>associate's degree</td>\n      <td>free/reduced</td>\n      <td>none</td>\n      <td>47</td>\n      <td>57</td>\n      <td>44</td>\n    </tr>\n    <tr>\n      <th>4</th>\n      <td>male</td>\n      <td>group C</td>\n      <td>some college</td>\n      <td>standard</td>\n      <td>none</td>\n      <td>76</td>\n      <td>78</td>\n      <td>75</td>\n    </tr>\n  </tbody>\n</table>\n</div>"
     },
     "execution_count": 6,
     "metadata": {},
     "output_type": "execute_result"
    }
   ],
   "source": [
    "df.head()"
   ],
   "metadata": {
    "collapsed": false,
    "pycharm": {
     "name": "#%%\n"
    }
   }
  },
  {
   "cell_type": "markdown",
   "source": [
    "As we can see, our data has students from all sorts of education backgrounds. (n=1000)\n",
    "## Effect of Test Preparation on Grades\n",
    "### Math Score"
   ],
   "metadata": {
    "collapsed": false,
    "pycharm": {
     "name": "#%% md\n"
    }
   }
  },
  {
   "cell_type": "code",
   "execution_count": 7,
   "outputs": [
    {
     "data": {
      "text/plain": "<Figure size 432x288 with 1 Axes>",
      "image/png": "[encoded data removed]"
     },
     "metadata": {
      "needs_background": "light"
     },
     "output_type": "display_data"
    },
    {
     "data": {
      "text/plain": "<Figure size 432x288 with 1 Axes>",
      "image/png": "[encoded data removed]"
     },
     "metadata": {
      "needs_background": "light"
     },
     "output_type": "display_data"
    }
   ],
   "source": [
    "# Divide students into buckets based on their math score\n",
    "df['math score bucket'] = (df['math score'] // 10) * 10\n",
    "\n",
    "# Students who took the test preparation course\n",
    "prepared_students = df[df['test preparation course'] == 'completed']\n",
    "num_prepared_students = prepared_students.shape[0]\n",
    "prepared_math_counts = Counter(prepared_students['math score bucket'])\n",
    "\n",
    "x = []\n",
    "y = []\n",
    "for key in prepared_math_counts:\n",
    "    x.append(key)\n",
    "    y.append(prepared_math_counts[key] / num_prepared_students)\n",
    "\n",
    "plt.bar(x, height=y, width=3)\n",
    "plt.title('Math Grade Frequency of Test Prepared Students')\n",
    "plt.ylabel('Percentage')\n",
    "plt.xlabel('Math Grade Category')\n",
    "plt.xticks([0, 20, 40, 60, 80, 100])\n",
    "plt.show()\n",
    "\n",
    "# Students who didn't take the test preparation course\n",
    "unprepared_students = df[df['test preparation course'] == 'none']\n",
    "num_unprepared_students = unprepared_students.shape[0]\n",
    "unprepared_math_counts = Counter(unprepared_students['math score bucket'])\n",
    "x = []\n",
    "y = []\n",
    "for key in unprepared_math_counts:\n",
    "    x.append(key)\n",
    "    y.append(unprepared_math_counts[key] / num_unprepared_students)\n",
    "\n",
    "plt.bar(x, height=y, width=3)\n",
    "plt.title('Math Grade Frequency of Unprepared Students')\n",
    "plt.ylabel('Percentage')\n",
    "plt.xlabel('Math Grade Category')\n",
    "plt.show()"
   ],
   "metadata": {
    "collapsed": false,
    "pycharm": {
     "name": "#%%\n"
    }
   }
  },
  {
   "cell_type": "markdown",
   "source": [
    "Each grade has been categorized into a \"bucket\" corresponding to a range of 9 numbers (ie 68 is plotted under 60, 52 is plotted under 50, etc)\n",
    "\n",
    "From these bar graphs, we can see that a greater percentage of students who did not take the test preparation course scored grades in the higher ranges than students who did not take the test preparation course.\n",
    "\n",
    "But it might be better to look at some basic central tendency data first."
   ],
   "metadata": {
    "collapsed": false,
    "pycharm": {
     "name": "#%% md\n"
    }
   }
  },
  {
   "cell_type": "code",
   "execution_count": 8,
   "outputs": [
    {
     "name": "stdout",
     "output_type": "stream",
     "text": [
      "Prepared Students Math Score Mean: 69.69553072625699\n",
      "Unprepared Students Math Score Mean: 64.0778816199377\n"
     ]
    }
   ],
   "source": [
    "print(f\"Prepared Students Math Score Mean: {prepared_students['math score'].mean()}\")\n",
    "print(f\"Unprepared Students Math Score Mean: {unprepared_students['math score'].mean()}\")"
   ],
   "metadata": {
    "collapsed": false,
    "pycharm": {
     "name": "#%%\n"
    }
   }
  },
  {
   "cell_type": "markdown",
   "source": [],
   "metadata": {
    "collapsed": false,
    "pycharm": {
     "name": "#%% md\n"
    }
   }
  }
 ],
 "metadata": {
  "kernelspec": {
   "display_name": "Python 3",
   "language": "python",
   "name": "python3"
  },
  "language_info": {
   "codemirror_mode": {
    "name": "ipython",
    "version": 2
   },
   "file_extension": ".py",
   "mimetype": "text/x-python",
   "name": "python",
   "nbconvert_exporter": "python",
   "pygments_lexer": "ipython2",
   "version": "2.7.6"
  }
 },
 "nbformat": 4,
 "nbformat_minor": 0
}